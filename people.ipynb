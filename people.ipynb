{
 "metadata": {
  "language_info": {
   "codemirror_mode": {
    "name": "ipython",
    "version": 3
   },
   "file_extension": ".py",
   "mimetype": "text/x-python",
   "name": "python",
   "nbconvert_exporter": "python",
   "pygments_lexer": "ipython3",
   "version": "3.7.4-final"
  },
  "orig_nbformat": 2,
  "kernelspec": {
   "name": "python374jvsc74a57bd0aee8b7b246df8f9039afb4144a1f6fd8d2ca17a180786b69acc140d282b71a49",
   "display_name": "Python 3.7.4 64-bit"
  },
  "metadata": {
   "interpreter": {
    "hash": "aee8b7b246df8f9039afb4144a1f6fd8d2ca17a180786b69acc140d282b71a49"
   }
  }
 },
 "nbformat": 4,
 "nbformat_minor": 2,
 "cells": [
  {
   "cell_type": "code",
   "execution_count": 1,
   "metadata": {},
   "outputs": [],
   "source": [
    "import pandas as pd"
   ]
  },
  {
   "source": [
    "## Importer data\n",
    "\n",
    "#### \"pd\" for at anvende panads biblotektet\n",
    "\n",
    "#### \"read\", data filen læses, kommando fra pandas"
   ],
   "cell_type": "markdown",
   "metadata": {}
  },
  {
   "cell_type": "code",
   "execution_count": 35,
   "metadata": {},
   "outputs": [],
   "source": [
    "data = pd.read_csv('people.csv')  "
   ]
  },
  {
   "source": [
    "####   \"head()\".  Viser de første 5 rækker i sit data sæt "
   ],
   "cell_type": "markdown",
   "metadata": {}
  },
  {
   "cell_type": "code",
   "execution_count": 11,
   "metadata": {},
   "outputs": [
    {
     "output_type": "execute_result",
     "data": {
      "text/plain": [
       "          name           address  age\n",
       "0  Christoffer   Tomsgårdsvej 20   28\n",
       "1     Caroline  Nybrovej 304 J17   26\n",
       "2         Anne     Tjele Alle 12   57\n",
       "3        Patti   Tomsgårdsvej 20   28\n",
       "4          Per     Tjele Alle 12   56"
      ],
      "text/html": "<div>\n<style scoped>\n    .dataframe tbody tr th:only-of-type {\n        vertical-align: middle;\n    }\n\n    .dataframe tbody tr th {\n        vertical-align: top;\n    }\n\n    .dataframe thead th {\n        text-align: right;\n    }\n</style>\n<table border=\"1\" class=\"dataframe\">\n  <thead>\n    <tr style=\"text-align: right;\">\n      <th></th>\n      <th>name</th>\n      <th>address</th>\n      <th>age</th>\n    </tr>\n  </thead>\n  <tbody>\n    <tr>\n      <th>0</th>\n      <td>Christoffer</td>\n      <td>Tomsgårdsvej 20</td>\n      <td>28</td>\n    </tr>\n    <tr>\n      <th>1</th>\n      <td>Caroline</td>\n      <td>Nybrovej 304 J17</td>\n      <td>26</td>\n    </tr>\n    <tr>\n      <th>2</th>\n      <td>Anne</td>\n      <td>Tjele Alle 12</td>\n      <td>57</td>\n    </tr>\n    <tr>\n      <th>3</th>\n      <td>Patti</td>\n      <td>Tomsgårdsvej 20</td>\n      <td>28</td>\n    </tr>\n    <tr>\n      <th>4</th>\n      <td>Per</td>\n      <td>Tjele Alle 12</td>\n      <td>56</td>\n    </tr>\n  </tbody>\n</table>\n</div>"
     },
     "metadata": {},
     "execution_count": 11
    }
   ],
   "source": [
    "data.head() "
   ]
  },
  {
   "cell_type": "code",
   "execution_count": 14,
   "metadata": {},
   "outputs": [
    {
     "output_type": "execute_result",
     "data": {
      "text/plain": [
       "0    Christoffer\n",
       "1       Caroline\n",
       "2           Anne\n",
       "3          Patti\n",
       "4            Per\n",
       "5          Julia\n",
       "Name: name, dtype: object"
      ]
     },
     "metadata": {},
     "execution_count": 14
    }
   ],
   "source": [
    "data['name'] # Giver alle navne ud, man kan også skrive alder eller adresse foreksempel. "
   ]
  },
  {
   "cell_type": "code",
   "execution_count": 15,
   "metadata": {},
   "outputs": [
    {
     "output_type": "execute_result",
     "data": {
      "text/plain": [
       "          name  age\n",
       "0  Christoffer   28\n",
       "1     Caroline   26\n",
       "2         Anne   57\n",
       "3        Patti   28\n",
       "4          Per   56\n",
       "5        Julia   24"
      ],
      "text/html": "<div>\n<style scoped>\n    .dataframe tbody tr th:only-of-type {\n        vertical-align: middle;\n    }\n\n    .dataframe tbody tr th {\n        vertical-align: top;\n    }\n\n    .dataframe thead th {\n        text-align: right;\n    }\n</style>\n<table border=\"1\" class=\"dataframe\">\n  <thead>\n    <tr style=\"text-align: right;\">\n      <th></th>\n      <th>name</th>\n      <th>age</th>\n    </tr>\n  </thead>\n  <tbody>\n    <tr>\n      <th>0</th>\n      <td>Christoffer</td>\n      <td>28</td>\n    </tr>\n    <tr>\n      <th>1</th>\n      <td>Caroline</td>\n      <td>26</td>\n    </tr>\n    <tr>\n      <th>2</th>\n      <td>Anne</td>\n      <td>57</td>\n    </tr>\n    <tr>\n      <th>3</th>\n      <td>Patti</td>\n      <td>28</td>\n    </tr>\n    <tr>\n      <th>4</th>\n      <td>Per</td>\n      <td>56</td>\n    </tr>\n    <tr>\n      <th>5</th>\n      <td>Julia</td>\n      <td>24</td>\n    </tr>\n  </tbody>\n</table>\n</div>"
     },
     "metadata": {},
     "execution_count": 15
    }
   ],
   "source": [
    "data[['name','age']] # Giver alle navne og alder ud. "
   ]
  },
  {
   "cell_type": "code",
   "execution_count": 44,
   "metadata": {},
   "outputs": [
    {
     "output_type": "execute_result",
     "data": {
      "text/plain": [
       "26.5"
      ]
     },
     "metadata": {},
     "execution_count": 44
    }
   ],
   "source": [
    "young_adults = data[data['age']< 30] # Viser alle dem er under 30\n",
    "\n",
    "young_adults['age'].mean() # Beregner middelværdien af de unges alder. "
   ]
  },
  {
   "source": [
    "## \"describe()\"\"\n",
    "\n",
    "#### Giver de mest almindelige statestikker"
   ],
   "cell_type": "markdown",
   "metadata": {}
  },
  {
   "cell_type": "code",
   "execution_count": 45,
   "metadata": {},
   "outputs": [
    {
     "output_type": "execute_result",
     "data": {
      "text/plain": [
       "             age\n",
       "count   4.000000\n",
       "mean   26.500000\n",
       "std     1.914854\n",
       "min    24.000000\n",
       "25%    25.500000\n",
       "50%    27.000000\n",
       "75%    28.000000\n",
       "max    28.000000"
      ],
      "text/html": "<div>\n<style scoped>\n    .dataframe tbody tr th:only-of-type {\n        vertical-align: middle;\n    }\n\n    .dataframe tbody tr th {\n        vertical-align: top;\n    }\n\n    .dataframe thead th {\n        text-align: right;\n    }\n</style>\n<table border=\"1\" class=\"dataframe\">\n  <thead>\n    <tr style=\"text-align: right;\">\n      <th></th>\n      <th>age</th>\n    </tr>\n  </thead>\n  <tbody>\n    <tr>\n      <th>count</th>\n      <td>4.000000</td>\n    </tr>\n    <tr>\n      <th>mean</th>\n      <td>26.500000</td>\n    </tr>\n    <tr>\n      <th>std</th>\n      <td>1.914854</td>\n    </tr>\n    <tr>\n      <th>min</th>\n      <td>24.000000</td>\n    </tr>\n    <tr>\n      <th>25%</th>\n      <td>25.500000</td>\n    </tr>\n    <tr>\n      <th>50%</th>\n      <td>27.000000</td>\n    </tr>\n    <tr>\n      <th>75%</th>\n      <td>28.000000</td>\n    </tr>\n    <tr>\n      <th>max</th>\n      <td>28.000000</td>\n    </tr>\n  </tbody>\n</table>\n</div>"
     },
     "metadata": {},
     "execution_count": 45
    }
   ],
   "source": [
    "young_adults.describe() "
   ]
  },
  {
   "cell_type": "code",
   "execution_count": 39,
   "metadata": {},
   "outputs": [
    {
     "output_type": "execute_result",
     "data": {
      "text/plain": [
       "   name               address  age\n",
       "2  Anne  Tjele Alle 12 Lyngby   57"
      ],
      "text/html": "<div>\n<style scoped>\n    .dataframe tbody tr th:only-of-type {\n        vertical-align: middle;\n    }\n\n    .dataframe tbody tr th {\n        vertical-align: top;\n    }\n\n    .dataframe thead th {\n        text-align: right;\n    }\n</style>\n<table border=\"1\" class=\"dataframe\">\n  <thead>\n    <tr style=\"text-align: right;\">\n      <th></th>\n      <th>name</th>\n      <th>address</th>\n      <th>age</th>\n    </tr>\n  </thead>\n  <tbody>\n    <tr>\n      <th>2</th>\n      <td>Anne</td>\n      <td>Tjele Alle 12 Lyngby</td>\n      <td>57</td>\n    </tr>\n  </tbody>\n</table>\n</div>"
     },
     "metadata": {},
     "execution_count": 39
    }
   ],
   "source": [
    "data[data['name'] == 'Anne'] # Finder alle personerne der hedder Anne "
   ]
  },
  {
   "cell_type": "code",
   "execution_count": 34,
   "metadata": {},
   "outputs": [
    {
     "output_type": "execute_result",
     "data": {
      "text/plain": [
       "          name           address  age\n",
       "0  Christoffer   Tomsgårdsvej 20   28\n",
       "1     Caroline  Nybrovej 304 J17   26"
      ],
      "text/html": "<div>\n<style scoped>\n    .dataframe tbody tr th:only-of-type {\n        vertical-align: middle;\n    }\n\n    .dataframe tbody tr th {\n        vertical-align: top;\n    }\n\n    .dataframe thead th {\n        text-align: right;\n    }\n</style>\n<table border=\"1\" class=\"dataframe\">\n  <thead>\n    <tr style=\"text-align: right;\">\n      <th></th>\n      <th>name</th>\n      <th>address</th>\n      <th>age</th>\n    </tr>\n  </thead>\n  <tbody>\n    <tr>\n      <th>0</th>\n      <td>Christoffer</td>\n      <td>Tomsgårdsvej 20</td>\n      <td>28</td>\n    </tr>\n    <tr>\n      <th>1</th>\n      <td>Caroline</td>\n      <td>Nybrovej 304 J17</td>\n      <td>26</td>\n    </tr>\n  </tbody>\n</table>\n</div>"
     },
     "metadata": {},
     "execution_count": 34
    }
   ],
   "source": [
    "data[data['name'].str.startswith('C')]  # Finder alle dem der starter med C"
   ]
  }
 ]
}